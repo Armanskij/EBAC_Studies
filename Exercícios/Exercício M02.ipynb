{
  "nbformat": 4,
  "nbformat_minor": 0,
  "metadata": {
    "colab": {
      "provenance": [],
      "include_colab_link": true
    },
    "kernelspec": {
      "name": "python3",
      "display_name": "Python 3"
    }
  },
  "cells": [
    {
      "cell_type": "markdown",
      "metadata": {
        "id": "view-in-github",
        "colab_type": "text"
      },
      "source": [
        "<a href=\"https://colab.research.google.com/github/Armanskij/EBAC_Studies/blob/main/Profissao_Analista_de_dados_M2_Exercicio_Douglas_Rizzi.ipynb\" target=\"_parent\"><img src=\"https://colab.research.google.com/assets/colab-badge.svg\" alt=\"Open In Colab\"/></a>"
      ]
    },
    {
      "cell_type": "markdown",
      "metadata": {
        "id": "KJqp9AANOCtf"
      },
      "source": [
        "<img src=\"https://raw.githubusercontent.com/andre-marcos-perez/ebac-course-utils/main/media/logo/newebac_logo_black_half.png\" alt=\"ebac-logo\">\n",
        "\n",
        "---\n",
        "\n",
        "# **Módulo** | Python: Estruturas de Dados\n",
        "Caderno de **Exercícios**<br>\n",
        "Professor [André Perez](https://www.linkedin.com/in/andremarcosperez/)\n",
        "\n",
        "---"
      ]
    },
    {
      "cell_type": "markdown",
      "metadata": {
        "id": "d9jDtUbDOE1-"
      },
      "source": [
        "# **Tópicos**\n",
        "\n",
        "<ol type=\"1\">\n",
        "  <li>Listas;</li>\n",
        "  <li>Conjuntos;</li>\n",
        "  <li>Dicionários.</li>\n",
        "</ol>"
      ]
    },
    {
      "cell_type": "markdown",
      "metadata": {
        "id": "SmoHgt-lwkpD"
      },
      "source": [
        "---"
      ]
    },
    {
      "cell_type": "markdown",
      "metadata": {
        "id": "GABI6OW8OfQ2"
      },
      "source": [
        "# **Exercícios**"
      ]
    },
    {
      "cell_type": "markdown",
      "metadata": {
        "id": "muD1vxozykSC"
      },
      "source": [
        "## 1\\. Listas"
      ]
    },
    {
      "cell_type": "markdown",
      "metadata": {
        "id": "ahrFfCuBxJKs"
      },
      "source": [
        "Criei uma lista chamada `filmes` com o nome dos 10 primeiros filmes mais bem avaliados no site no [IMDB](https://www.imdb.com/chart/top/). Imprima o resultado."
      ]
    },
    {
      "cell_type": "code",
      "metadata": {
        "id": "OgL6Hv3bzOHI"
      },
      "source": [
        "filmes = [\n",
        "    'Um sonho de Liberdade',\n",
        "    'O Poderoso Chefão',\n",
        "    'Batman - O Cavaleiro das Trevas',\n",
        "    \"O Poderoso Chefão 2\",\n",
        "    \"12 Homens e uma Senteça\",\n",
        "    'A Lista de Schindler',\n",
        "    'O Senhor dos Anéis: O Retorno do Rei',\n",
        "    'Pulp Fiction - Tempo de Violência',\n",
        "    'O Senhor dos Anéis: A Sociedade do Anel',\n",
        "    'Três Homens em Conflito'\n",
        "]"
      ],
      "execution_count": null,
      "outputs": []
    },
    {
      "cell_type": "code",
      "source": [
        "print(filmes)"
      ],
      "metadata": {
        "colab": {
          "base_uri": "https://localhost:8080/"
        },
        "id": "FRjT9G8lDTji",
        "outputId": "60b6ed5b-25c4-4578-ffc8-9c1b0e1ad7d1"
      },
      "execution_count": null,
      "outputs": [
        {
          "output_type": "stream",
          "name": "stdout",
          "text": [
            "['Um sonho de Liberdade', 'O Poderoso Chefão', 'Batman - O Cavaleiro das Trevas', 'O Poderoso Chefão 2', '12 Homens e uma Senteça', 'A Lista de Schindler', 'O Senhor dos Anéis: O Retorno do Rei', 'Pulp Fiction - Tempo de Violência', 'O Senhor dos Anéis: A Sociedade do Anel', 'Três Homens em Conflito']\n"
          ]
        }
      ]
    },
    {
      "cell_type": "markdown",
      "metadata": {
        "id": "KI9zQRT2xa7m"
      },
      "source": [
        "Simule a movimentação do *ranking*. Utilize os métodos `insert` e `pop` para trocar a posição do primeiro e do segundo filme da lista. Imprima o resultado.\n",
        "\n"
      ]
    },
    {
      "cell_type": "code",
      "metadata": {
        "id": "zX3mA3_GzrXH",
        "colab": {
          "base_uri": "https://localhost:8080/"
        },
        "outputId": "be4540e2-e507-4a8c-faf0-a9950d160099"
      },
      "source": [
        "#inseri no indice 0 o segundo colocado, e retirei o indice 2 (que estava duplicado)\n",
        "filmes.insert(0,filmes[1])\n",
        "filmes.pop(2)\n",
        "print(filmes)"
      ],
      "execution_count": null,
      "outputs": [
        {
          "output_type": "stream",
          "name": "stdout",
          "text": [
            "['O Poderoso Chefão', 'Um sonho de Liberdade', 'Batman - O Cavaleiro das Trevas', 'O Poderoso Chefão 2', '12 Homens e uma Senteça', 'A Lista de Schindler', 'O Senhor dos Anéis: O Retorno do Rei', 'Pulp Fiction - Tempo de Violência', 'O Senhor dos Anéis: A Sociedade do Anel', 'Três Homens em Conflito']\n"
          ]
        }
      ]
    },
    {
      "cell_type": "markdown",
      "metadata": {
        "id": "zMN1Q3jdwoJm"
      },
      "source": [
        "---"
      ]
    },
    {
      "cell_type": "markdown",
      "metadata": {
        "id": "lxa5L6uF0ZJE"
      },
      "source": [
        "## 2\\. Conjuntos"
      ]
    },
    {
      "cell_type": "markdown",
      "metadata": {
        "id": "9JahS2Kj0d5u"
      },
      "source": [
        "Aconteceu um erro no seu *ranking*. Simule a duplicação dos três últimos filmes da lista. Imprima o resultado."
      ]
    },
    {
      "cell_type": "code",
      "metadata": {
        "id": "BnjnLBNC6PGe",
        "colab": {
          "base_uri": "https://localhost:8080/"
        },
        "outputId": "f3320842-61f9-4f41-a437-94b60f92aec4"
      },
      "source": [
        "#criei uma lista com os três últimos filmes e usei 'extend' pra adiciona-los ao fim da lista\n",
        "filmes = [\n",
        "    'Um sonho de Liberdade',\n",
        "    'O Poderoso Chefão',\n",
        "    'Batman - O Cavaleiro das Trevas',\n",
        "    \"O Poderoso Chefão 2\",\n",
        "    \"12 Homens e uma Senteça\",\n",
        "    'A Lista de Schindler',\n",
        "    'O Senhor dos Anéis: O Retorno do Rei',\n",
        "    'Pulp Fiction - Tempo de Violência',\n",
        "    'O Senhor dos Anéis: A Sociedade do Anel',\n",
        "    'Três Homens em Conflito'\n",
        "]\n",
        "print (filmes)\n",
        "ultimos_filmes=filmes[-3:]\n",
        "filmes.extend(ultimos_filmes)\n",
        "print(filmes)\n",
        "\n"
      ],
      "execution_count": null,
      "outputs": [
        {
          "output_type": "stream",
          "name": "stdout",
          "text": [
            "['Um sonho de Liberdade', 'O Poderoso Chefão', 'Batman - O Cavaleiro das Trevas', 'O Poderoso Chefão 2', '12 Homens e uma Senteça', 'A Lista de Schindler', 'O Senhor dos Anéis: O Retorno do Rei', 'Pulp Fiction - Tempo de Violência', 'O Senhor dos Anéis: A Sociedade do Anel', 'Três Homens em Conflito']\n",
            "['Um sonho de Liberdade', 'O Poderoso Chefão', 'Batman - O Cavaleiro das Trevas', 'O Poderoso Chefão 2', '12 Homens e uma Senteça', 'A Lista de Schindler', 'O Senhor dos Anéis: O Retorno do Rei', 'Pulp Fiction - Tempo de Violência', 'O Senhor dos Anéis: A Sociedade do Anel', 'Três Homens em Conflito', 'Pulp Fiction - Tempo de Violência', 'O Senhor dos Anéis: A Sociedade do Anel', 'Três Homens em Conflito']\n"
          ]
        }
      ]
    },
    {
      "cell_type": "markdown",
      "metadata": {
        "id": "suxTfCJB6ZiX"
      },
      "source": [
        "Utiliza a conversão `set` e `list` para remover os valores duplicados. Imprima o resultado."
      ]
    },
    {
      "cell_type": "code",
      "metadata": {
        "id": "ZvUGN-0n6joM",
        "colab": {
          "base_uri": "https://localhost:8080/"
        },
        "outputId": "6f55ff7d-1500-498e-b213-68077f085fd4"
      },
      "source": [
        "print (type(filmes))\n",
        "list (filmes)\n",
        "filmes = set (filmes)\n",
        "print (type(filmes))\n",
        "print(filmes)"
      ],
      "execution_count": null,
      "outputs": [
        {
          "output_type": "stream",
          "name": "stdout",
          "text": [
            "<class 'list'>\n",
            "<class 'set'>\n",
            "{'Pulp Fiction - Tempo de Violência', 'O Senhor dos Anéis: A Sociedade do Anel', 'O Poderoso Chefão 2', '12 Homens e uma Senteça', 'Batman - O Cavaleiro das Trevas', 'Três Homens em Conflito', 'O Poderoso Chefão', 'O Senhor dos Anéis: O Retorno do Rei', 'A Lista de Schindler', 'Um sonho de Liberdade'}\n"
          ]
        }
      ]
    },
    {
      "cell_type": "markdown",
      "metadata": {
        "id": "ShkK35eQ6pAM"
      },
      "source": [
        "---"
      ]
    },
    {
      "cell_type": "markdown",
      "metadata": {
        "id": "EL_FzmxL6rTv"
      },
      "source": [
        "## 3\\. Dicionários"
      ]
    },
    {
      "cell_type": "markdown",
      "metadata": {
        "id": "i8l0gFqRCpfT"
      },
      "source": [
        "Repita os exercícios da parte 1 (listas). Os elementos da lista `filmes` devem ser dicionários no seguinte formato: `{'nome': <nome-do-filme>, 'ano': <ano do filme>, 'sinopse': <sinopse do filme>}`."
      ]
    },
    {
      "cell_type": "code",
      "metadata": {
        "id": "DlSUroQBSrDD"
      },
      "source": [
        "#Tentei deixar o mais organizado possível\n",
        "filmes = {\n",
        "    'Um Sonho de Liberdade':{\n",
        "        'nome_do_filme':'Um Sonho de Liberdade',\n",
        "        'ano':1994,\n",
        "        'sinopse':'Dois homens presos se reúnem ao longo de vários anos, encontrando consolo e eventual redenção através de atos de decência comum.',\n",
        "        'rank':1\n",
        "    },\n",
        "    'O Poderoso Chefão':{\n",
        "        'nome_do_filme':'O Poderoso Chefão',\n",
        "        'ano':1972,\n",
        "        'sinopse':'O patriarca idoso de uma dinastia do crime organizado transfere o controle de seu império clandestino para seu filho relutante',\n",
        "        'rank': 2\n",
        "    },\n",
        "    'Batman - O Cavaleiro das Trevas':{\n",
        "        'nome_do_filme':'Batman - O Caveleiro das Trevas',\n",
        "        'ano':2008,\n",
        "        'sinopse':'Agora com a ajuda do tenente Jim Gordon e do promotor público Harvey Dent, Batman tem tudo para banir o crime de Gotham City de uma vez por todas. Mas em breve, os três serão vítimas do Coringa, que pretende lançar Gotham em uma anarquia.',\n",
        "        'rank': 3\n",
        "    },\n",
        "    'O Poderoso Chefão 2':{\n",
        "        'nome_do_filme':'O Poderoso Chefão 2',\n",
        "        'ano':1974,\n",
        "        'sinopse':'Em 1950, Michael Corleone, agora à frente da família, tenta expandir o negócio do crime a Las Vegas, Los Angeles e Cuba. Paralelamente, é revelada a história de Vito Corleone, e de como saiu da Sicília e chegou a Nova Iorque.',\n",
        "        'rank': 4\n",
        "    },\n",
        "    '12 Homens e uma Senteça':{\n",
        "        'nome_do_filme':'12 Homens e uma Sentença',\n",
        "        'ano':1957,\n",
        "        'sinopse':'O julgamento de um assassinato em Nova Iorque é frustrado por um único membro, cujo ceticismo força o júri a considerar cuidadosamente as evidências antes de dar o veredito.',\n",
        "        'rank': 5\n",
        "\n",
        "    },\n",
        "    'A Lista de Schindler':{\n",
        "        'nome_do_filme':'A Lista de Schindler',\n",
        "        'ano':1993,\n",
        "        'sinopse':'Na Polônia ocupada pelos alemães durante a Segunda Guerra Mundial, o industrial Oskar Schindler começa a ser preocupar com seus trabalhadores judeus depois de testemunhar sua perseguição pelos nazistas',\n",
        "        'rank': 6\n",
        "\n",
        "    },\n",
        "    'O Senhor dos Anéis: O Retorno do Rei':{\n",
        "        'nome_do_filme':'O Senhor dos Anéis: O Retorno do Rei',\n",
        "        'ano':2003,\n",
        "        'sinopse':'Gandalf e Aragorn lideram o Mundo dos Homens contra o exército de Sauron para desviar o olhar de Frodo e Sam quando eles se aproximam á Montanha da Perdição com o Um Anel.',\n",
        "        'rank': 7\n",
        "\n",
        "   },\n",
        "    'Pulp Fiction - Tempo de Violência':{\n",
        "        'nome_do_filme':'Pulp Fiction - Tempo de Violência',\n",
        "        'ano':1994,\n",
        "        'sinopse':'As vidas de dois assassinos da máfia, um boxeador, um gângster e sua esposa, e um par de bandidos se entrelaçam em quatro histórias de violência e redenção.',\n",
        "        'rank': 8\n",
        "    },\n",
        "    'O Senhor dos Anéis: A Sociedade do Anel':{\n",
        "        'nome_do_filme':'O Senhor dos Anéis: A Sociedade do Anel',\n",
        "        'ano':2001,\n",
        "        'sinopse':'Um manso hobbit do Condado e oito companheiros partem em uma jornada para destruir o poderoso Um Anel e salvar a Terra-média das Trevas.',\n",
        "        'rank': 9\n",
        "    },\n",
        "    'Três Homens em Conflito': {\n",
        "        'nome_do_filme':'Três Homens em Conflito',\n",
        "        'ano':1966,\n",
        "        'sinopse':'Um impostos se junta com dois homens para encontrar fortuna num remoto cemitério',\n",
        "        'rank': 10\n",
        "    }\n",
        "\n",
        "}"
      ],
      "execution_count": null,
      "outputs": []
    },
    {
      "cell_type": "code",
      "source": [
        "filmes['O Senhor dos Anéis: A Sociedade do Anel']"
      ],
      "metadata": {
        "colab": {
          "base_uri": "https://localhost:8080/"
        },
        "id": "Wa3BDpMwPQGw",
        "outputId": "cedf7a17-be99-4623-fc42-e4e112bf75d8"
      },
      "execution_count": null,
      "outputs": [
        {
          "output_type": "execute_result",
          "data": {
            "text/plain": [
              "{'nome_do_filme': 'O Senhor dos Anéis: A Sociedade do Anel',\n",
              " 'ano': 2001,\n",
              " 'sinopse': 'Um manso hobbit do Condado e oito companheiros partem em uma jornada para destruir o poderoso Um Anel e salvar a Terra-média das Trevas.',\n",
              " 'rank': 9}"
            ]
          },
          "metadata": {},
          "execution_count": 34
        }
      ]
    },
    {
      "cell_type": "code",
      "source": [
        "print(type(filmes))"
      ],
      "metadata": {
        "colab": {
          "base_uri": "https://localhost:8080/"
        },
        "id": "0qumr3zGRAtG",
        "outputId": "a0130390-294d-4dfe-f81e-b41369f56cb4"
      },
      "execution_count": null,
      "outputs": [
        {
          "output_type": "stream",
          "name": "stdout",
          "text": [
            "<class 'dict'>\n"
          ]
        }
      ]
    }
  ]
}
