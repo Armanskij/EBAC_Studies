{
  "nbformat": 4,
  "nbformat_minor": 0,
  "metadata": {
    "colab": {
      "provenance": [],
      "include_colab_link": true
    },
    "kernelspec": {
      "name": "python3",
      "display_name": "Python 3"
    }
  },
  "cells": [
    {
      "cell_type": "markdown",
      "metadata": {
        "id": "view-in-github",
        "colab_type": "text"
      },
      "source": [
        "<a href=\"https://colab.research.google.com/github/Armanskij/EBAC_Studies/blob/main/Profissao_Analista_de_dados_M10_Exercicio.ipynb\" target=\"_parent\"><img src=\"https://colab.research.google.com/assets/colab-badge.svg\" alt=\"Open In Colab\"/></a>"
      ]
    },
    {
      "cell_type": "markdown",
      "metadata": {
        "id": "KJqp9AANOCtf"
      },
      "source": [
        "<img src=\"https://raw.githubusercontent.com/andre-marcos-perez/ebac-course-utils/main/media/logo/newebac_logo_black_half.png\" alt=\"ebac-logo\">\n",
        "\n",
        "---\n",
        "\n",
        "# **Módulo** | Análise de Dados: Coleta de Dados I\n",
        "Caderno de **Exercícios**<br>\n",
        "Professor [André Perez](https://www.linkedin.com/in/andremarcosperez/)\n",
        "\n",
        "---"
      ]
    },
    {
      "cell_type": "markdown",
      "metadata": {
        "id": "d9jDtUbDOE1-"
      },
      "source": [
        "# **Tópicos**\n",
        "\n",
        "<ol type=\"1\">\n",
        "  <li>Arquivos CSV;</li>\n",
        "  <li>Arquivos Texto;</li>\n",
        "  <li>Arquivos Excel.</li>\n",
        "</ol>"
      ]
    },
    {
      "cell_type": "markdown",
      "metadata": {
        "id": "SmoHgt-lwkpD"
      },
      "source": [
        "---"
      ]
    },
    {
      "cell_type": "markdown",
      "metadata": {
        "id": "GABI6OW8OfQ2"
      },
      "source": [
        "# **Exercícios**"
      ]
    },
    {
      "cell_type": "markdown",
      "metadata": {
        "id": "muD1vxozykSC"
      },
      "source": [
        "## 0\\. Preparando o ambiente"
      ]
    },
    {
      "cell_type": "markdown",
      "metadata": {
        "id": "ByX7SUjNKk2K"
      },
      "source": [
        "Vamos explorar dados de crédito presentes no arquivo `credito.xlsx` ([link](https://raw.githubusercontent.com/andre-marcos-perez/ebac-course-utils/develop/dataset/credito.xlsx)). Os dados estão no formato de **Excel** (XLSX) e contém informações sobre clientes de uma instituição financeira. Em especial, estamos interessados em explicar a segunda coluna, chamada de **default**, que indica se um cliente é adimplente (`default = 0`), ou inadimplente (`default = 1`), ou seja, queremos entender o porque um cliente deixa de honrar com suas dívidas baseado no comportamento de outros atributos, como salário, escolaridade e movimentação financeira. Uma descrição completa dos atributos está abaixo."
      ]
    },
    {
      "cell_type": "markdown",
      "metadata": {
        "id": "Z5Fd0NSVLnwE"
      },
      "source": [
        "\n",
        "\n",
        "| Coluna  | Descrição |\n",
        "| ------- | --------- |\n",
        "| id      | Número da conta |\n",
        "| default | Indica se o cliente é adimplente (0) ou inadimplente (1) |\n",
        "| idade   | --- |\n",
        "| sexo    | --- |\n",
        "| depedentes | --- |\n",
        "| escolaridade | --- |\n",
        "| estado_civil | --- |\n",
        "| salario_anual | Faixa do salario mensal multiplicado por 12 |\n",
        "| tipo_cartao | Categoria do cartao: blue, silver, gold e platinium |\n",
        "| meses_de_relacionamento | Quantidade de meses desde a abertura da conta |\n",
        "| qtd_produtos | Quantidade de produtos contratados |\n",
        "| iteracoes_12m | Quantidade de iteracoes com o cliente no último ano |\n",
        "| meses_inatico_12m | Quantidade de meses que o cliente ficou inativo no último ano |\n",
        "| limite_credito | Valor do limite do cartão de crédito |\n",
        "| valor_transacoes_12m | Soma total do valor das transações no cartão de crédito no último ano |\n",
        "| qtd_transacoes_12m | Quantidade total de transações no cartão de crédito no último ano |\n",
        "\n"
      ]
    },
    {
      "cell_type": "markdown",
      "metadata": {
        "id": "peEbZE2vcMaH"
      },
      "source": [
        "Faça o download do arquivo `credito.xlsx` com a célula de código abaixo."
      ]
    },
    {
      "cell_type": "code",
      "metadata": {
        "id": "hyG8xFuWc16L",
        "colab": {
          "base_uri": "https://localhost:8080/"
        },
        "outputId": "7d4ebab6-03dc-4c55-a5dc-6857a3e33b2e"
      },
      "source": [
        "!wget --show-progress --continue -O ./credito.xlsx https://raw.githubusercontent.com/andre-marcos-perez/ebac-course-utils/main/dataset/credito.xlsx"
      ],
      "execution_count": 1,
      "outputs": [
        {
          "output_type": "stream",
          "name": "stdout",
          "text": [
            "--2024-01-25 17:58:24--  https://raw.githubusercontent.com/andre-marcos-perez/ebac-course-utils/main/dataset/credito.xlsx\n",
            "Resolving raw.githubusercontent.com (raw.githubusercontent.com)... 185.199.108.133, 185.199.109.133, 185.199.110.133, ...\n",
            "Connecting to raw.githubusercontent.com (raw.githubusercontent.com)|185.199.108.133|:443... connected.\n",
            "HTTP request sent, awaiting response... 416 Range Not Satisfiable\n",
            "\n",
            "    The file is already fully retrieved; nothing to do.\n",
            "\n"
          ]
        }
      ]
    },
    {
      "cell_type": "markdown",
      "metadata": {
        "id": "zMN1Q3jdwoJm"
      },
      "source": [
        "---"
      ]
    },
    {
      "cell_type": "markdown",
      "metadata": {
        "id": "GWgNoJN8DHyY"
      },
      "source": [
        "## 1\\. Excel para CSV"
      ]
    },
    {
      "cell_type": "markdown",
      "metadata": {
        "id": "YynK1vf2DHyj"
      },
      "source": [
        "Utilizando o pacote Python `openpyxl` visto em aula, extraia os seguintes as colunas `id`, `sexo` e `idade` para dos clientes inadimplentes (`default = 1`) e solteiros (`estado_civil = 'solteiro'`). Salves os dados extraídos no arquivo csv `credito.csv` separado por `;`. Exemplo do cabeçalho e das três primeiras linhas:\n",
        "\n",
        "```\n",
        "id;sexo;idade\n",
        "767712558;59;M\n",
        "713741358;46;M\n",
        "772390908;59;M\n",
        "```\n",
        "\n",
        "**Dica:** O arquivo csv `credito.csv` deve ter 669 linhas, contando com o cabeçalho.\n",
        "\n",
        "**Nota:** Escreva o código da sua solução abaixo em uma ou mais células, você não precisa enviar o arquivo csv gerado."
      ]
    },
    {
      "cell_type": "code",
      "metadata": {
        "id": "hVK8QyFvE-wk"
      },
      "source": [
        "import openpyxl\n",
        "import csv\n",
        "\n",
        "arquivo_excel = \"credito.xlsx\"\n",
        "planilha_nome = \"credito\""
      ],
      "execution_count": 2,
      "outputs": []
    },
    {
      "cell_type": "code",
      "source": [
        "#abrindo o arquivo de extração e criando o que receberá os dados\n",
        "\n",
        "wb = openpyxl.load_workbook(arquivo_excel)\n",
        "planilha = wb[planilha_nome]\n",
        "dados_csv = []\n",
        "cabecalhos = ['id', 'sexo', 'idade']"
      ],
      "metadata": {
        "id": "WakzXaMeMavT"
      },
      "execution_count": 3,
      "outputs": []
    },
    {
      "cell_type": "markdown",
      "source": [
        "Tentativa usando funções, map e filter para extratir os dados(demorou cerca de 7 min pelo GoogleColab)"
      ],
      "metadata": {
        "id": "61hMV9u2mVbc"
      }
    },
    {
      "cell_type": "code",
      "source": [
        "def extrair_dados(linha): #criando função para retirar apenas as 3 colunas\n",
        "  id,_,idade,sexo,*_ = [col.value for col in linha]\n",
        "  return id, sexo, idade\n",
        "\n",
        "dados_csv = [] #criando uma lista para receber os dados xlsx\n",
        "\n",
        "#usando map e filter para aplicar o filtro nas colunas de interesse\n",
        "dados_filtrados = map(extrair_dados, filter(lambda linha:planilha['B']\\\n",
        " [linha[0].row -1].value == 1 and planilha['G'][linha[0].row -1].\\\n",
        "  value.lower() == 'solteiro', planilha.iter_rows(min_row=2)))\n",
        "dados_csv.extend(dados_filtrados) #anexando o dados filtrados à lista criada\n",
        "\n",
        "arquivo_csv = 'perfil_inadimplentes.csv' #criando o arquivo que irá receber os dados\n",
        "\n",
        "#abrindo e escrevendo cabeçalhos e dados\n",
        "with open(arquivo_csv, 'w', encoding='utf8', newline='') as arquivo:\n",
        "  escritor_csv = csv.writer(arquivo)\n",
        "  escritor_csv.writerow(cabecalhos)\n",
        "  escritor_csv.writerows(dados_csv)"
      ],
      "metadata": {
        "id": "K_4ra5dDWCUM"
      },
      "execution_count": 4,
      "outputs": []
    },
    {
      "cell_type": "markdown",
      "source": [
        "Tentativa usando loop for para iterar sobre as linhas (demorou cerca de 8 min no GoogleColab)"
      ],
      "metadata": {
        "id": "sj0TgWLhmnuo"
      }
    },
    {
      "cell_type": "code",
      "source": [
        "for linha in planilha.iter_rows(min_row=2):  #loop for em cada linha do arquivo\n",
        "  id, _, idade, sexo, *_ = [col.value for col in linha] #destacando as colunas desejadas e ignorando (*_) todas as outras\n",
        "  if planilha ['B'][linha[0].row -1].value == 1 and\\\n",
        "    planilha['G'][linha[0].row -1].value.lower() == 'solteiro':#se na planilha a coluna B (row -1 devido à indexação do openpyxl) for igual a 1 # e a coluna G for igual a solteiro\n",
        "    dados_csv.append([id, sexo, idade]) #anexe esse linha ao arquivo de csv criado, somente as três colunas indicadas\n",
        "\n",
        "arquivo_csv = 'perfil_inadimplentes.csv' #criando o novo arquivo que receberá os dados\n",
        "\n",
        "with open(arquivo_csv, 'w', encoding='utf8') as arquivo: #abrindo ele no modo escrita\n",
        "  escritor_csv = csv.writer(arquivo) #criando um variável para escrever no arquivo\n",
        "  escritor_csv.writerow(cabecalhos) #escrevendo os cabeçalhos\n",
        "  escritor_csv.writerows(dados_csv)# escrevendo as linhas filtradas"
      ],
      "metadata": {
        "id": "QAqt8Pv6cLl8"
      },
      "execution_count": 5,
      "outputs": []
    },
    {
      "cell_type": "markdown",
      "metadata": {
        "id": "waxn4B2UDHyl"
      },
      "source": [
        "---"
      ]
    },
    {
      "cell_type": "markdown",
      "metadata": {
        "id": "finLQoyyGVmk"
      },
      "source": [
        "## 2\\. Excel para JSON"
      ]
    },
    {
      "cell_type": "markdown",
      "metadata": {
        "id": "99BrnqR4GVmy"
      },
      "source": [
        "Como preparação para o próximo módulo, vamos trabalhar com o JSON, um formato semi-estruturado, muito utilizado em transmissão de dados da web e equivalente a um **dicionário** Python."
      ]
    },
    {
      "cell_type": "markdown",
      "metadata": {
        "id": "AQqks_tohV8k"
      },
      "source": [
        "Utilizando o pacote Python `openpyxl` visto em aula, extraia os dados das colunas `escolaridade` e `tipo_cartao`, removendo duplicados. Com os dados, construa o dicionário Python `credito` com a seguinte estrutura:\n",
        "\n",
        "```python\n",
        "credito = {\n",
        "  'tipo_cartao': ['silver', 'blue', 'gold', 'platinum'],\n",
        "  'escolaridade': ['doutorado', 'mestrado', 'na', 'sem educacao formal', 'graduacao', 'ensino medio']\n",
        "}\n",
        "```\n",
        "\n",
        "Para finalizar, utilize o código abaixo para converter o dicionário `credito` no formato JSON:\n",
        "\n",
        "```python\n",
        "import json\n",
        "\n",
        "credito_json = json.dumps(credito, indent=4)\n",
        "print(credito_json)\n",
        "```\n",
        "\n",
        "**Dica:** Sua solução deve gerar o dicionário Python `credito` igual ao exemplo mas a ordem dos elementos pode variar tranquilamente.\n",
        "\n",
        "**Dica:** Uma excelente forma de remover elementos duplicados de uma lista é convertê-la para `set` e depois para `list` novamente.\n",
        "\n"
      ]
    },
    {
      "cell_type": "code",
      "metadata": {
        "id": "pCMQ5vBPjSXn"
      },
      "source": [
        "#importando os pacotes necessários\n",
        "import openpyxl\n",
        "import json"
      ],
      "execution_count": 6,
      "outputs": []
    },
    {
      "cell_type": "code",
      "source": [
        "#abrindo o arquivo e selecionando a planilha\n",
        "arquivo_excel = openpyxl.load_workbook('credito.xlsx')\n",
        "planilha = arquivo_excel['credito']\n",
        "\n",
        "#atribuindo uma variável para cada coluna\n",
        "coluna1 = planilha['F']\n",
        "coluna2 = planilha['I']\n",
        "#para cada valor nas linhas retornar esse valor em um conjunto\n",
        "valores_coluna1 = \\\n",
        "set([celula.value for celula in coluna1 if celula.value != 'escolaridade'])\n",
        "valores_coluna2 = \\\n",
        "set([celula.value for celula in coluna2 if celula.value != 'tipo_cartao'])\n",
        "#conferindo os resultados\n",
        "print(valores_coluna2)\n",
        "print(valores_coluna1)\n",
        "print(type(valores_coluna1),type(valores_coluna2))"
      ],
      "metadata": {
        "id": "UoSZ8lHn6J3i",
        "colab": {
          "base_uri": "https://localhost:8080/"
        },
        "outputId": "039ab678-4200-4a92-ff1e-b0f368b3dd71"
      },
      "execution_count": 7,
      "outputs": [
        {
          "output_type": "stream",
          "name": "stdout",
          "text": [
            "{'gold', 'blue', 'platinum', 'silver'}\n",
            "{'na', 'mestrado', 'doutorado', 'graduacao', 'ensino medio', 'sem educacao formal'}\n",
            "<class 'set'> <class 'set'>\n"
          ]
        }
      ]
    },
    {
      "cell_type": "code",
      "source": [
        "#criando um dicionario com os conjuntos selecionados\n",
        "dict_credito = {planilha['F1'].value: list(valores_coluna1),\\\n",
        "               planilha['I1'].value:list(valores_coluna2)}\n",
        "print(dict_credito)\n",
        "print(type(dict_credito))"
      ],
      "metadata": {
        "colab": {
          "base_uri": "https://localhost:8080/"
        },
        "id": "m2ZHQ2qchiER",
        "outputId": "95e4ba63-994f-427d-b7ba-60601066f831"
      },
      "execution_count": 8,
      "outputs": [
        {
          "output_type": "stream",
          "name": "stdout",
          "text": [
            "{'escolaridade': ['na', 'mestrado', 'doutorado', 'graduacao', 'ensino medio', 'sem educacao formal'], 'tipo_cartao': ['gold', 'blue', 'platinum', 'silver']}\n",
            "<class 'dict'>\n"
          ]
        }
      ]
    },
    {
      "cell_type": "code",
      "source": [
        "#criando e escrevendo o arquivo json\n",
        "json_data =json.dumps(dict_credito, indent=2)\n",
        "print(json_data)\n",
        "\n",
        "with open('dados.json', 'w') as json_file:\n",
        "  json.dump(dict_credito, json_file, indent=2)"
      ],
      "metadata": {
        "colab": {
          "base_uri": "https://localhost:8080/"
        },
        "id": "f_dzqWc9jRC4",
        "outputId": "61b6d309-06d4-4a66-c635-c59013863474"
      },
      "execution_count": 9,
      "outputs": [
        {
          "output_type": "stream",
          "name": "stdout",
          "text": [
            "{\n",
            "  \"escolaridade\": [\n",
            "    \"na\",\n",
            "    \"mestrado\",\n",
            "    \"doutorado\",\n",
            "    \"graduacao\",\n",
            "    \"ensino medio\",\n",
            "    \"sem educacao formal\"\n",
            "  ],\n",
            "  \"tipo_cartao\": [\n",
            "    \"gold\",\n",
            "    \"blue\",\n",
            "    \"platinum\",\n",
            "    \"silver\"\n",
            "  ]\n",
            "}\n"
          ]
        }
      ]
    },
    {
      "cell_type": "markdown",
      "metadata": {
        "id": "As3enQc2GVm1"
      },
      "source": [
        "---"
      ]
    },
    {
      "cell_type": "markdown",
      "metadata": {
        "id": "SS1PxxfHILHs"
      },
      "source": [
        "## 3\\. BÔNUS: Texto para CSV"
      ]
    },
    {
      "cell_type": "markdown",
      "metadata": {
        "id": "i3f-X7y23onm"
      },
      "source": [
        "No arquivo de texto `ebac.txt` você encontra o texto presente no rodapé da página de cursos da EBAC ([link](https://ebaconline.com.br/)).\n",
        "\n"
      ]
    },
    {
      "cell_type": "markdown",
      "metadata": {
        "id": "nKDF9EBH3onp"
      },
      "source": [
        "**Arquivo TXT:** ebac.txt"
      ]
    },
    {
      "cell_type": "code",
      "metadata": {
        "id": "Pyyj5VNnb16w",
        "colab": {
          "base_uri": "https://localhost:8080/"
        },
        "outputId": "af867d80-e516-42ac-94ac-10345ba2f00a"
      },
      "source": [
        "%%writefile ebac.txt\n",
        "MÍDIAS SOCIAIS\n",
        "Instagram, Facebook, Youtube, LinkedIn\n",
        "\n",
        "CURSOS\n",
        "Software, Design, Marketing, Audiovisual, Programação & Data, Games\n",
        "\n",
        "WEBINARS\n",
        "Próximos, Anteriores\n",
        "\n",
        "SOBRE\n",
        "Sobre nós, Centro de carreiras, Vagas\n",
        "\n",
        "CONTATO\n",
        "WhatsApp +55 (11) 4200-2991\n",
        "Telefone +55 (11) 3030-3200\n",
        "\n",
        "BLOG\n",
        "Design, Audiovisual, Marketing"
      ],
      "execution_count": 10,
      "outputs": [
        {
          "output_type": "stream",
          "name": "stdout",
          "text": [
            "Overwriting ebac.txt\n"
          ]
        }
      ]
    },
    {
      "cell_type": "markdown",
      "metadata": {
        "id": "R4hMJ6D2ILH3"
      },
      "source": [
        "Extraia os números de contato do arquivo texto `ebac.txt` e salve-os no arquivo csv `contato_ebac.csv` com o separador `;` no seguinte formato:\n",
        "\n",
        "```\n",
        "tipo;numero\n",
        "whatsapp;+551142002991\n",
        "telefone;+551130303200\n",
        "```\n",
        "\n",
        "**Nota:** Escreva o código da sua solução abaixo em uma ou mais células, você não precisa enviar o arquivo csv gerado."
      ]
    },
    {
      "cell_type": "code",
      "metadata": {
        "id": "ogZClDvTILH3"
      },
      "source": [
        "import re\n",
        "import csv"
      ],
      "execution_count": 11,
      "outputs": []
    },
    {
      "cell_type": "code",
      "source": [
        "#abrindo arquivo de extração\n",
        "with open(file='ebac.txt', mode='r', encoding='utf8') as arquivo_txt:\n",
        "  texto = arquivo_txt.read()\n",
        "\n",
        "#sintaxe para extração do número (padrão brasileiro)\n",
        "sint_extracao_tel = '\\+\\d{2}\\s*\\(\\d{2}\\) 9?\\d{4,5}-\\d{4}'\n",
        "#extração do número e tipo\n",
        "numero_extraidos = re.findall(sint_extracao_tel, texto)\n",
        "tipo_telefone = re.findall(f'(\\w+)\\s*{sint_extracao_tel}',texto)\n",
        "#criando lista do resultado da extração\n",
        "contatos_extraidos = list(zip(tipo_telefone, numero_extraidos))\n",
        "#criando arquivo para receber os dados\n",
        "arquivo_csv_contatos = 'contato_ebac.csv'\n",
        "\n",
        "#abrindo e escrevendo dados\n",
        "with open(file='contato_ebac.csv', mode='w',newline='', encoding='utf8')\\\n",
        " as arquivo_csv:\n",
        "  escritor_csv = csv.writer(arquivo_csv, delimiter=';')\n",
        "  escritor_csv.writerow(['tipo', 'numero'])\n",
        "  escritor_csv.writerows(contatos_extraidos)"
      ],
      "metadata": {
        "id": "776ZCYojn_Y-"
      },
      "execution_count": 12,
      "outputs": []
    },
    {
      "cell_type": "markdown",
      "metadata": {
        "id": "Fx--J2bOILH4"
      },
      "source": [
        "---"
      ]
    }
  ]
}